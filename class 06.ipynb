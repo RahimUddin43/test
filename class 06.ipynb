{
 "cells": [
  {
   "cell_type": "code",
   "execution_count": 9,
   "metadata": {},
   "outputs": [
    {
     "name": "stdout",
     "output_type": "stream",
     "text": [
      "[1, 2, 3, 4, 5, 6, 7, 8, 9, 10]\n"
     ]
    }
   ],
   "source": [
    "def merge(a,b):\n",
    "    len_a,len_b=len(a),len(b)\n",
    "    ind_a,ind_b=0,0\n",
    "    merge_list=[]\n",
    "    \n",
    "    while ind_a<len_a and ind_b<len_b:\n",
    "        if a[ind_a] > b[ind_b]:\n",
    "            merge_list.append(b[ind_b])\n",
    "            ind_b+=1\n",
    "        elif a[ind_a] <=b[ind_b]:\n",
    "            merge_list.append(a[ind_a])\n",
    "            ind_a+=1\n",
    "    if len_a>ind_a:\n",
    "        merge_list.extend(a[ind_a:])\n",
    "    elif len_b > ind_b:\n",
    "        merge_list.extend(b[ind_b:])\n",
    "    return merge_list\n",
    "\n",
    "\n",
    "def merge_sort(arr):\n",
    "    if len(arr) <= 1:\n",
    "        return arr\n",
    "    mid=len(arr)//2\n",
    "    \n",
    "    left=merge_sort(arr[:mid])\n",
    "    right=merge_sort(arr[mid:])\n",
    "    return merge(left,right)\n",
    "\n",
    "if __name__==\"__main__\":\n",
    "    \n",
    "    li=[10,9,8,7,4,5,6,3,2,1]\n",
    "   \n",
    "    print(merge_sort(li))\n"
   ]
  },
  {
   "cell_type": "code",
   "execution_count": 10,
   "metadata": {},
   "outputs": [
    {
     "name": "stdout",
     "output_type": "stream",
     "text": [
      "Hello World\n"
     ]
    }
   ],
   "source": []
  }
 ],
 "metadata": {
  "kernelspec": {
   "display_name": "Python 3.9.12 ('base')",
   "language": "python",
   "name": "python3"
  },
  "language_info": {
   "codemirror_mode": {
    "name": "ipython",
    "version": 3
   },
   "file_extension": ".py",
   "mimetype": "text/x-python",
   "name": "python",
   "nbconvert_exporter": "python",
   "pygments_lexer": "ipython3",
   "version": "3.9.12"
  },
  "orig_nbformat": 4,
  "vscode": {
   "interpreter": {
    "hash": "8cb61ebf8c3703977c4fa08f10c7d6edf2d79554d1c47a4795c5dc6317f617f6"
   }
  }
 },
 "nbformat": 4,
 "nbformat_minor": 2
}
